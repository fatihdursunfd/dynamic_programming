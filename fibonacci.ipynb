{
  "nbformat": 4,
  "nbformat_minor": 0,
  "metadata": {
    "colab": {
      "name": "fibonacci.ipynb",
      "provenance": [],
      "authorship_tag": "ABX9TyODJPk9yCJ1dgdlKa3i4mPa",
      "include_colab_link": true
    },
    "kernelspec": {
      "name": "python3",
      "display_name": "Python 3"
    }
  },
  "cells": [
    {
      "cell_type": "markdown",
      "metadata": {
        "id": "view-in-github",
        "colab_type": "text"
      },
      "source": [
        "<a href=\"https://colab.research.google.com/github/fatihdursunfd/dynamic_programming/blob/fd/fibonacci.ipynb\" target=\"_parent\"><img src=\"https://colab.research.google.com/assets/colab-badge.svg\" alt=\"Open In Colab\"/></a>"
      ]
    },
    {
      "cell_type": "code",
      "metadata": {
        "id": "6R3ZhTif_Zey"
      },
      "source": [
        "#recursive\n",
        "\n",
        "def fibonacci_r(n):\n",
        "  if(n<0):\n",
        "    print(\"incorrect input\")\n",
        "  elif(n==0):\n",
        "    return 0\n",
        "  elif(n==1):\n",
        "    return 1\n",
        "  else:\n",
        "    return fibonacci(n-1)+fibonacci(n-2) "
      ],
      "execution_count": 1,
      "outputs": []
    },
    {
      "cell_type": "code",
      "metadata": {
        "id": "YoOJl9EiEoKO"
      },
      "source": [
        "#dynamic\n",
        "def fibonacci(n):\n",
        "\n",
        "  a=0\n",
        "  b=1\n",
        "\n",
        "  if(n<0):\n",
        "    print(\"incorrect input\")\n",
        "\n",
        "  elif(n==0):\n",
        "    return a\n",
        "\n",
        "  elif(n==1):\n",
        "    return b\n",
        "\n",
        "  else:\n",
        "    for i in range(2,n+1):\n",
        "      c = a + b\n",
        "      a = b\n",
        "      b = c\n",
        "    return b"
      ],
      "execution_count": 2,
      "outputs": []
    },
    {
      "cell_type": "code",
      "metadata": {
        "id": "lWdt2cbgDrqF",
        "colab": {
          "base_uri": "https://localhost:8080/"
        },
        "outputId": "864d51af-4663-4484-deaf-b3a31fcbad2d"
      },
      "source": [
        "print(fibonacci(8))\n",
        "print(fibonacci_r(10))"
      ],
      "execution_count": 3,
      "outputs": [
        {
          "output_type": "stream",
          "text": [
            "21\n",
            "55\n"
          ],
          "name": "stdout"
        }
      ]
    }
  ]
}