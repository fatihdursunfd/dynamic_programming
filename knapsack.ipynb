{
  "nbformat": 4,
  "nbformat_minor": 0,
  "metadata": {
    "colab": {
      "name": "knapsack.ipynb",
      "provenance": [],
      "authorship_tag": "ABX9TyNtV3InNTN+R5dL2z2CgCh6",
      "include_colab_link": true
    },
    "kernelspec": {
      "name": "python3",
      "display_name": "Python 3"
    }
  },
  "cells": [
    {
      "cell_type": "markdown",
      "metadata": {
        "id": "view-in-github",
        "colab_type": "text"
      },
      "source": [
        "<a href=\"https://colab.research.google.com/github/fatihdursunfd/dynamic_programming/blob/fd/knapsack.ipynb\" target=\"_parent\"><img src=\"https://colab.research.google.com/assets/colab-badge.svg\" alt=\"Open In Colab\"/></a>"
      ]
    },
    {
      "cell_type": "code",
      "metadata": {
        "id": "vWPaAcnLLw85",
        "colab": {
          "base_uri": "https://localhost:8080/"
        },
        "outputId": "8a72a457-236e-4eb3-9de9-17eeab74e1e4"
      },
      "source": [
        "def knapsack(weight , value , capasity , name):\n",
        "\n",
        "  n = len(weight)\n",
        "  K = [[0 for x in range(capasity + 1)] for x in range(n + 1)]\n",
        "  \n",
        "  for i in range(n + 1):\n",
        "      for j in range(capasity + 1):\n",
        "\n",
        "        if(i==0 or j==0):\n",
        "            K[i][j] = 0\n",
        "        elif(weight[i-1] <= j):\n",
        "            K[i][j] = max(value[i-1]+K[i-1][j-weight[i-1]] , K[i-1][j] )\n",
        "        else:\n",
        "            K[i][j] = K[i-1][j] \n",
        "\n",
        "  i = n \n",
        "  w = capasity \n",
        "  k_list = []\n",
        "  while(i != 0 and w != 0):\n",
        "    if( K[i][w] != K[i-1][w] ):\n",
        "        k_list.append(name[i - 1])\n",
        "        w = w - weight[i - 1]\n",
        "        i = i - 1\n",
        "    else:\n",
        "      i = i - 1\n",
        "\n",
        "  k_list.reverse()\n",
        "  print(\"list of selected objects\",k_list)\n",
        "  print(\"max cost is\", K[n][capasity])\n",
        "\n",
        "\n",
        "name=[\"a\",\"b\",\"c\",\"d\",\"e\",\"f\"]\n",
        "weight = [1 , 2 , 2 , 6 , 1 , 3]\n",
        "value = [2 , 3 , 1 , 4 , 3 , 4]\n",
        "capasity = 10\n",
        "\n",
        "knapsack(weight,value,capasity,name)"
      ],
      "execution_count": 1,
      "outputs": [
        {
          "output_type": "stream",
          "text": [
            "list of selected objects ['a', 'b', 'c', 'e', 'f']\n",
            "max cost is 13\n"
          ],
          "name": "stdout"
        }
      ]
    }
  ]
}