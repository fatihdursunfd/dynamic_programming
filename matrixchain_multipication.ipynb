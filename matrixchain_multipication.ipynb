{
  "nbformat": 4,
  "nbformat_minor": 0,
  "metadata": {
    "colab": {
      "name": "matrixchain_multipication.ipynb",
      "provenance": [],
      "authorship_tag": "ABX9TyOyBTLqPUmBgiA4uLj7MlVn",
      "include_colab_link": true
    },
    "kernelspec": {
      "name": "python3",
      "display_name": "Python 3"
    }
  },
  "cells": [
    {
      "cell_type": "markdown",
      "metadata": {
        "id": "view-in-github",
        "colab_type": "text"
      },
      "source": [
        "<a href=\"https://colab.research.google.com/github/fatihdursunfd/dynamic_programming/blob/fd/matrixchain_multipication.ipynb\" target=\"_parent\"><img src=\"https://colab.research.google.com/assets/colab-badge.svg\" alt=\"Open In Colab\"/></a>"
      ]
    },
    {
      "cell_type": "code",
      "metadata": {
        "id": "jxTCUgRecG95"
      },
      "source": [
        "import sys"
      ],
      "execution_count": 2,
      "outputs": []
    },
    {
      "cell_type": "code",
      "metadata": {
        "id": "SD-CcIUV9S5K",
        "colab": {
          "base_uri": "https://localhost:8080/"
        },
        "outputId": "01f47573-1782-4ed3-dee1-fc661f346b93"
      },
      "source": [
        "def MatrixChainOrder(p, n):\n",
        "    m = [[0 for x in range(5)] for x in range(5)]\n",
        "\n",
        "    for i in range(1,n):\n",
        "      m[i][i] = 0\n",
        "    \n",
        "    for L in range(2, n):\n",
        "      for i in range(1, n-L+1):\n",
        "        j = i+L-1\n",
        "        m[i][j] = sys.maxsize\n",
        "        for k in range(i, j):\n",
        "          q = m[i][k] + m[k+1][j] + p[i-1]*p[k]*p[j]\n",
        "          if q < m[i][j]:\n",
        "            m[i][j] = q\n",
        "            \n",
        "    return m[1][n-1]\n",
        "\n",
        "# m1=(2*3) m2=(3*4) m3=(4*3) m4=(3*1)\n",
        "p=[2, 3, 4 ,3,1]\n",
        "size = len(p)\n",
        "\n",
        "print(\"Minimum number of multiplications is\",MatrixChainOrder(p,size))"
      ],
      "execution_count": 3,
      "outputs": [
        {
          "output_type": "stream",
          "text": [
            "Minimum number of multiplications is 30\n"
          ],
          "name": "stdout"
        }
      ]
    }
  ]
}