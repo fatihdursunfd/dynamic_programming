{
  "nbformat": 4,
  "nbformat_minor": 0,
  "metadata": {
    "colab": {
      "name": "longest_common_subsequence.ipynb",
      "provenance": [],
      "authorship_tag": "ABX9TyPJdr0Lj3cLRVcbzUHluVs8",
      "include_colab_link": true
    },
    "kernelspec": {
      "name": "python3",
      "display_name": "Python 3"
    }
  },
  "cells": [
    {
      "cell_type": "markdown",
      "metadata": {
        "id": "view-in-github",
        "colab_type": "text"
      },
      "source": [
        "<a href=\"https://colab.research.google.com/github/fatihdursunfd/dynamic_programming/blob/fd/longest_common_subsequence.ipynb\" target=\"_parent\"><img src=\"https://colab.research.google.com/assets/colab-badge.svg\" alt=\"Open In Colab\"/></a>"
      ]
    },
    {
      "cell_type": "code",
      "metadata": {
        "id": "bWl8jEyAp_fG",
        "colab": {
          "base_uri": "https://localhost:8080/",
          "height": 51
        },
        "outputId": "cc2e6053-0715-4f9a-f038-05a307809f22"
      },
      "source": [
        "def LCS(X,Y):\n",
        "\n",
        "    size_x = len(X)\n",
        "    size_y = len(Y)\n",
        "\n",
        "   \n",
        "    D = [[0 for x in range(size_x+1)] for x in range(size_y+1)]\n",
        "    H = [[0 for x in range(size_x+1)] for x in range(size_y+1)]\n",
        "\n",
        "    for i in range(0,size_y+1):\n",
        "      for j in range(0,size_x+1):\n",
        "          if(i==0 or j==0):\n",
        "            D[i][j] = 0\n",
        "          elif(X[j-1] == Y[i-1]):\n",
        "            D[i][j] = D[i-1][j-1] + 1\n",
        "          else:\n",
        "            D[i][j] = max (D[i][j-1] , D[i-1][j] )\n",
        "\n",
        "    for i in range(size_y,0,-1):\n",
        "      for j in range(size_x,0,-1):\n",
        "          if(X[j-1] == Y[i-1]):\n",
        "              H[i][j] = 1\n",
        "          elif(D[i-1][j] >= D[i][j-1]):\n",
        "              H[i][j] = 2\n",
        "          elif(D[i-1][j] < D[i][j-1]):\n",
        "              H[i][j] = 3\n",
        "\n",
        "    i = size_y\n",
        "    j = size_x\n",
        "    lcs_list = []\n",
        "\n",
        "    while(H[i][j] != 0):\n",
        "        if(H[i][j] == 1):\n",
        "            lcs_list.append(Y[i-1])\n",
        "            i = i - 1 \n",
        "            j = j - 1\n",
        "        elif(H[i][j] == 2):\n",
        "            i = i - 1 \n",
        "        elif(H[i][j] == 3):\n",
        "            j = j - 1\n",
        "\n",
        "\n",
        "    lcs_list.reverse()\n",
        "    print(\"Length of LCS is \" , D[size_y][size_x])\n",
        "    print(\"LCS is \" , lcs_list)\n",
        "\n",
        "\n",
        "\n",
        "X=\"BİLGİSAYAR\"\n",
        "Y=\"ALGORİTMA\"\n",
        "\n",
        "LCS(X,Y)"
      ],
      "execution_count": null,
      "outputs": [
        {
          "output_type": "stream",
          "text": [
            "Length of LCS is  4\n",
            "LCS is  ['L', 'G', 'İ', 'A']\n"
          ],
          "name": "stdout"
        }
      ]
    }
  ]
}