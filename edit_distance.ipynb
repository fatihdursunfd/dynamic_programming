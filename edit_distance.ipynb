{
  "nbformat": 4,
  "nbformat_minor": 0,
  "metadata": {
    "colab": {
      "name": "edit_distance.ipynb",
      "provenance": [],
      "authorship_tag": "ABX9TyNmkQBi4qb7OSnae//BkN4T",
      "include_colab_link": true
    },
    "kernelspec": {
      "name": "python3",
      "display_name": "Python 3"
    }
  },
  "cells": [
    {
      "cell_type": "markdown",
      "metadata": {
        "id": "view-in-github",
        "colab_type": "text"
      },
      "source": [
        "<a href=\"https://colab.research.google.com/github/fatihdursunfd/dynamic_programming/blob/fd/edit_distance.ipynb\" target=\"_parent\"><img src=\"https://colab.research.google.com/assets/colab-badge.svg\" alt=\"Open In Colab\"/></a>"
      ]
    },
    {
      "cell_type": "code",
      "metadata": {
        "id": "DZt1ux9N39VU",
        "colab": {
          "base_uri": "https://localhost:8080/",
          "height": 34
        },
        "outputId": "efff0880-f74d-40bc-bfaa-1ea8aeefd9ab"
      },
      "source": [
        "def edit_distance(str1 , str2):\n",
        "\n",
        "    m = len(str1)\n",
        "    n = len(str2)\n",
        "\n",
        "    D=[[0 for x in range(m+1)] for x in range(n+1)]\n",
        "    \n",
        "    for i in range(0,n+1):\n",
        "        for j in range(0,m+1):\n",
        "\n",
        "            if(i == 0) :\n",
        "                D[i][j] = j\n",
        "            elif(j == 0) :\n",
        "                D[i][j] = i\n",
        "            elif(str1[j-1] == str2[i-1]):\n",
        "                D[i][j] = D[i-1][j-1]\n",
        "            else :\n",
        "                D[i][j] = 1 + min(D[i-1][j-1] , D[i][j-1] , D[i-1][j])\n",
        "\n",
        "    print(\"edit distance is \",D[n][m])\n",
        "\n",
        "\n",
        "\n",
        "\n",
        "str1 = \"mekik\"    #hedef\n",
        "str2 = \"mantık\"   #kaynak\n",
        "\n",
        "edit_distance(str1,str2)\n"
      ],
      "execution_count": null,
      "outputs": [
        {
          "output_type": "stream",
          "text": [
            "edit distance is  4\n"
          ],
          "name": "stdout"
        }
      ]
    }
  ]
}